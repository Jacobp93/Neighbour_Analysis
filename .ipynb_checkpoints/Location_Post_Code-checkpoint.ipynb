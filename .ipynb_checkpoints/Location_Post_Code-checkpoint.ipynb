{
 "cells": [
  {
   "cell_type": "code",
   "execution_count": 20,
   "id": "7ad27a4a-0247-4b45-a1ba-fc80d185038c",
   "metadata": {},
   "outputs": [],
   "source": [
    "import geopandas as gpd\n",
    "import matplotlib.pyplot as plt\n",
    "from geopy.geocoders import Nominatim\n",
    "import pandas as pd \n",
    "from tqdm import tqdm  # Use tqdm for a progress bar\n",
    "import time  # To add a delay\n",
    "\n"
   ]
  },
  {
   "cell_type": "code",
   "execution_count": 21,
   "id": "fd1dbdf3-37ae-499b-9a5c-c724d304b3e4",
   "metadata": {},
   "outputs": [],
   "source": [
    "df = pd.read_excel(r\"C:\\Users\\Jacob\\OneDrive - Jigsaw PSHE Ltd\\Documents\\Python\\Neighbour_Analysis\\PSHE_RE_DATA\\PSHE_RE_DATA_10 - Copy.xlsx\")\n"
   ]
  },
  {
   "cell_type": "code",
   "execution_count": 22,
   "id": "ead85ca1-c37d-4686-9fd6-643c78e3ca18",
   "metadata": {},
   "outputs": [],
   "source": [
    "# Create a geolocator object\n",
    "geolocator = Nominatim(user_agent=\"geoapiExercises\", timeout=10)\n"
   ]
  },
  {
   "cell_type": "code",
   "execution_count": 23,
   "id": "fee05b6f-d66d-4eeb-bb1e-5f11ed09dfa1",
   "metadata": {},
   "outputs": [],
   "source": [
    "def get_lat_lon(postcode):\n",
    "    try:\n",
    "        location = geolocator.geocode(postcode)\n",
    "        if location:\n",
    "            time.sleep(1)  # Increase delay to 2 seconds or more\n",
    "            return location.latitude, location.longitude\n",
    "        else:\n",
    "            return None, None\n",
    "    except Exception as e:\n",
    "        print(f\"Error geocoding {postcode}: {e}\")\n",
    "        return None, None"
   ]
  },
  {
   "cell_type": "code",
   "execution_count": 24,
   "id": "7ba5b5bc-6248-44cf-b509-a0f65fef393f",
   "metadata": {},
   "outputs": [
    {
     "data": {
      "text/html": [
       "<div>\n",
       "<style scoped>\n",
       "    .dataframe tbody tr th:only-of-type {\n",
       "        vertical-align: middle;\n",
       "    }\n",
       "\n",
       "    .dataframe tbody tr th {\n",
       "        vertical-align: top;\n",
       "    }\n",
       "\n",
       "    .dataframe thead th {\n",
       "        text-align: right;\n",
       "    }\n",
       "</style>\n",
       "<table border=\"1\" class=\"dataframe\">\n",
       "  <thead>\n",
       "    <tr style=\"text-align: right;\">\n",
       "      <th></th>\n",
       "      <th>Record ID</th>\n",
       "      <th>Company name</th>\n",
       "      <th>England Regions (DFE)</th>\n",
       "      <th>Customer type - Primary</th>\n",
       "      <th>Customer type - RE</th>\n",
       "      <th>Primary Subscription Start Date</th>\n",
       "      <th>Primary Subscription End Date</th>\n",
       "      <th>Legacy Flagship</th>\n",
       "      <th>Post code</th>\n",
       "      <th>Postcode (DFE)</th>\n",
       "    </tr>\n",
       "  </thead>\n",
       "  <tbody>\n",
       "    <tr>\n",
       "      <th>0</th>\n",
       "      <td>6814994439</td>\n",
       "      <td></td>\n",
       "      <td>London</td>\n",
       "      <td>Primary Legacy</td>\n",
       "      <td>RE Legacy</td>\n",
       "      <td>2016-05-04</td>\n",
       "      <td>NaT</td>\n",
       "      <td>NaN</td>\n",
       "      <td>BR1 2PR</td>\n",
       "      <td>BR1 2PR</td>\n",
       "    </tr>\n",
       "  </tbody>\n",
       "</table>\n",
       "</div>"
      ],
      "text/plain": [
       "    Record ID                Company name England Regions (DFE)   \\\n",
       "0  6814994439  Scotts Park Primary School                 London   \n",
       "\n",
       "  Customer type - Primary Customer type - RE Primary Subscription Start Date  \\\n",
       "0          Primary Legacy          RE Legacy                      2016-05-04   \n",
       "\n",
       "  Primary Subscription End Date Legacy Flagship Post code Postcode (DFE)  \n",
       "0                           NaT             NaN   BR1 2PR        BR1 2PR  "
      ]
     },
     "execution_count": 24,
     "metadata": {},
     "output_type": "execute_result"
    }
   ],
   "source": [
    "df.head(1)"
   ]
  },
  {
   "cell_type": "code",
   "execution_count": null,
   "id": "25a9d3bb-46a9-47d9-8442-76a9cdfa78c7",
   "metadata": {},
   "outputs": [
    {
     "name": "stderr",
     "output_type": "stream",
     "text": [
      "  1%|▌                                                                                        | 2/339 [00:00<01:29,  3.78it/s]"
     ]
    },
    {
     "name": "stdout",
     "output_type": "stream",
     "text": [
      "Error geocoding BR1 2PR: Non-successful status code 403\n"
     ]
    },
    {
     "name": "stderr",
     "output_type": "stream",
     "text": [
      "  1%|▊                                                                                        | 3/339 [00:03<07:52,  1.41s/it]"
     ]
    },
    {
     "name": "stdout",
     "output_type": "stream",
     "text": [
      "Error geocoding PH34 4EU: Non-successful status code 403\n"
     ]
    },
    {
     "name": "stderr",
     "output_type": "stream",
     "text": [
      "  1%|█                                                                                        | 4/339 [00:06<11:10,  2.00s/it]"
     ]
    },
    {
     "name": "stdout",
     "output_type": "stream",
     "text": [
      "Error geocoding KW1 4XB: Non-successful status code 403\n"
     ]
    },
    {
     "name": "stderr",
     "output_type": "stream",
     "text": [
      "  1%|█▎                                                                                       | 5/339 [00:09<13:04,  2.35s/it]"
     ]
    },
    {
     "name": "stdout",
     "output_type": "stream",
     "text": [
      "Error geocoding KW1 5TR: Non-successful status code 403\n"
     ]
    },
    {
     "name": "stderr",
     "output_type": "stream",
     "text": [
      "  2%|█▌                                                                                       | 6/339 [00:12<14:15,  2.57s/it]"
     ]
    },
    {
     "name": "stdout",
     "output_type": "stream",
     "text": [
      "Error geocoding SG12 7BT: Non-successful status code 403\n"
     ]
    },
    {
     "name": "stderr",
     "output_type": "stream",
     "text": [
      "  2%|█▊                                                                                       | 7/339 [00:15<14:59,  2.71s/it]"
     ]
    },
    {
     "name": "stdout",
     "output_type": "stream",
     "text": [
      "Error geocoding SG10 6DL: Non-successful status code 403\n"
     ]
    },
    {
     "name": "stderr",
     "output_type": "stream",
     "text": [
      "  2%|██                                                                                       | 8/339 [00:18<15:27,  2.80s/it]"
     ]
    },
    {
     "name": "stdout",
     "output_type": "stream",
     "text": [
      "Error geocoding SG5 1XR: Non-successful status code 403\n"
     ]
    },
    {
     "name": "stderr",
     "output_type": "stream",
     "text": [
      "  3%|██▎                                                                                      | 9/339 [00:21<15:43,  2.86s/it]"
     ]
    },
    {
     "name": "stdout",
     "output_type": "stream",
     "text": [
      "Error geocoding EN5 5HT: Non-successful status code 403\n"
     ]
    },
    {
     "name": "stderr",
     "output_type": "stream",
     "text": [
      "  3%|██▌                                                                                     | 10/339 [00:24<15:57,  2.91s/it]"
     ]
    },
    {
     "name": "stdout",
     "output_type": "stream",
     "text": [
      "Error geocoding SO41 8HX: Non-successful status code 403\n"
     ]
    },
    {
     "name": "stderr",
     "output_type": "stream",
     "text": [
      "  3%|██▊                                                                                     | 11/339 [00:27<16:04,  2.94s/it]"
     ]
    },
    {
     "name": "stdout",
     "output_type": "stream",
     "text": [
      "Error geocoding SO15 5TE: Non-successful status code 403\n"
     ]
    },
    {
     "name": "stderr",
     "output_type": "stream",
     "text": [
      "  4%|███                                                                                     | 12/339 [00:30<16:07,  2.96s/it]"
     ]
    },
    {
     "name": "stdout",
     "output_type": "stream",
     "text": [
      "Error geocoding SO319NZ: Non-successful status code 403\n"
     ]
    },
    {
     "name": "stderr",
     "output_type": "stream",
     "text": [
      "  4%|███▎                                                                                    | 13/339 [00:33<16:09,  2.97s/it]"
     ]
    },
    {
     "name": "stdout",
     "output_type": "stream",
     "text": [
      "Error geocoding RG26 5AH: Non-successful status code 403\n"
     ]
    },
    {
     "name": "stderr",
     "output_type": "stream",
     "text": [
      "  4%|███▋                                                                                    | 14/339 [00:36<16:09,  2.98s/it]"
     ]
    },
    {
     "name": "stdout",
     "output_type": "stream",
     "text": [
      "Error geocoding PO13 0QD: Non-successful status code 403\n"
     ]
    },
    {
     "name": "stderr",
     "output_type": "stream",
     "text": [
      "  4%|███▉                                                                                    | 15/339 [00:39<16:08,  2.99s/it]"
     ]
    },
    {
     "name": "stdout",
     "output_type": "stream",
     "text": [
      "Error geocoding PO7 5QL: Non-successful status code 403\n"
     ]
    },
    {
     "name": "stderr",
     "output_type": "stream",
     "text": [
      "  5%|████▏                                                                                   | 16/339 [00:42<16:07,  2.99s/it]"
     ]
    },
    {
     "name": "stdout",
     "output_type": "stream",
     "text": [
      "Error geocoding NP44 2LL: Non-successful status code 403\n"
     ]
    },
    {
     "name": "stderr",
     "output_type": "stream",
     "text": [
      "  5%|████▍                                                                                   | 17/339 [00:45<16:04,  3.00s/it]"
     ]
    },
    {
     "name": "stdout",
     "output_type": "stream",
     "text": [
      "Error geocoding NP7 6AR: Non-successful status code 403\n"
     ]
    },
    {
     "name": "stderr",
     "output_type": "stream",
     "text": [
      "  5%|████▋                                                                                   | 18/339 [00:48<16:01,  3.00s/it]"
     ]
    },
    {
     "name": "stdout",
     "output_type": "stream",
     "text": [
      "Error geocoding NP22 4RW: Non-successful status code 403\n"
     ]
    },
    {
     "name": "stderr",
     "output_type": "stream",
     "text": [
      "  6%|████▉                                                                                   | 19/339 [00:51<16:00,  3.00s/it]"
     ]
    },
    {
     "name": "stdout",
     "output_type": "stream",
     "text": [
      "Error geocoding NP18 3BY: Non-successful status code 403\n"
     ]
    }
   ],
   "source": [
    "tqdm.pandas()  # Enable the progress bar for pandas\n",
    "df['latitude'], df['longitude'] = zip(*df['Post code'].progress_apply(get_lat_lon))"
   ]
  },
  {
   "cell_type": "code",
   "execution_count": 13,
   "id": "dd74359a-ea21-45f1-abb3-01bb8126d2dc",
   "metadata": {},
   "outputs": [],
   "source": [
    "df.to_csv(r\"C:\\Users\\Jacob\\OneDrive - Jigsaw PSHE Ltd\\Documents\\Python\\Neighbour_Analysis\\HS_PSHE_RE_DATA_with_lat_lon_10.csv\", index=False)\n"
   ]
  },
  {
   "cell_type": "code",
   "execution_count": null,
   "id": "f84ef759-e035-4408-abdb-b114346f90ad",
   "metadata": {},
   "outputs": [],
   "source": []
  }
 ],
 "metadata": {
  "kernelspec": {
   "display_name": "Python 3 (ipykernel)",
   "language": "python",
   "name": "python3"
  },
  "language_info": {
   "codemirror_mode": {
    "name": "ipython",
    "version": 3
   },
   "file_extension": ".py",
   "mimetype": "text/x-python",
   "name": "python",
   "nbconvert_exporter": "python",
   "pygments_lexer": "ipython3",
   "version": "3.12.1"
  }
 },
 "nbformat": 4,
 "nbformat_minor": 5
}
