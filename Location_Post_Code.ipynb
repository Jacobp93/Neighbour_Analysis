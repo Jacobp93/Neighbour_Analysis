{
 "cells": [
  {
   "cell_type": "code",
   "execution_count": 8,
   "id": "7ad27a4a-0247-4b45-a1ba-fc80d185038c",
   "metadata": {},
   "outputs": [],
   "source": [
    "import geopandas as gpd\n",
    "import matplotlib.pyplot as plt\n",
    "from geopy.geocoders import Nominatim\n",
    "import pandas as pd \n",
    "from tqdm import tqdm  # Use tqdm for a progress bar\n",
    "import time  # To add a delay\n",
    "\n"
   ]
  },
  {
   "cell_type": "code",
   "execution_count": 9,
   "id": "fd1dbdf3-37ae-499b-9a5c-c724d304b3e4",
   "metadata": {},
   "outputs": [],
   "source": [
    "df = pd.read_excel(r\"C:\\Users\\Jacob\\OneDrive - Jigsaw PSHE Ltd\\Documents\\Python\\Neighbour_Analysis\\PSHE_RE_DATA\\PSHE_RE_DATA_5.xlsx\")\n"
   ]
  },
  {
   "cell_type": "code",
   "execution_count": 10,
   "id": "ead85ca1-c37d-4686-9fd6-643c78e3ca18",
   "metadata": {},
   "outputs": [],
   "source": [
    "# Create a geolocator object\n",
    "geolocator = Nominatim(user_agent=\"geoapiExercises\", timeout=10)\n"
   ]
  },
  {
   "cell_type": "code",
   "execution_count": 11,
   "id": "fee05b6f-d66d-4eeb-bb1e-5f11ed09dfa1",
   "metadata": {},
   "outputs": [],
   "source": [
    "def get_lat_lon(postcode):\n",
    "    try:\n",
    "        location = geolocator.geocode(postcode)\n",
    "        if location:\n",
    "            time.sleep(2)  # Increase delay to 2 seconds or more\n",
    "            return location.latitude, location.longitude\n",
    "        else:\n",
    "            return None, None\n",
    "    except Exception as e:\n",
    "        print(f\"Error geocoding {postcode}: {e}\")\n",
    "        return None, None"
   ]
  },
  {
   "cell_type": "code",
   "execution_count": 12,
   "id": "7ba5b5bc-6248-44cf-b509-a0f65fef393f",
   "metadata": {},
   "outputs": [
    {
     "data": {
      "text/html": [
       "<div>\n",
       "<style scoped>\n",
       "    .dataframe tbody tr th:only-of-type {\n",
       "        vertical-align: middle;\n",
       "    }\n",
       "\n",
       "    .dataframe tbody tr th {\n",
       "        vertical-align: top;\n",
       "    }\n",
       "\n",
       "    .dataframe thead th {\n",
       "        text-align: right;\n",
       "    }\n",
       "</style>\n",
       "<table border=\"1\" class=\"dataframe\">\n",
       "  <thead>\n",
       "    <tr style=\"text-align: right;\">\n",
       "      <th></th>\n",
       "      <th>Record ID</th>\n",
       "      <th>Company name</th>\n",
       "      <th>England Regions (DFE)</th>\n",
       "      <th>Customer type - Primary</th>\n",
       "      <th>Customer type - RE</th>\n",
       "      <th>Primary Subscription Start Date</th>\n",
       "      <th>Primary Subscription End Date</th>\n",
       "      <th>Legacy Flagship</th>\n",
       "      <th>Post code</th>\n",
       "      <th>Postcode (DFE)</th>\n",
       "    </tr>\n",
       "  </thead>\n",
       "  <tbody>\n",
       "    <tr>\n",
       "      <th>0</th>\n",
       "      <td>6595702656</td>\n",
       "      <td></td>\n",
       "      <td>East Midlands</td>\n",
       "      <td>Primary SaaS</td>\n",
       "      <td>NaN</td>\n",
       "      <td>2022-05-18</td>\n",
       "      <td>2025-05-17</td>\n",
       "      <td>NaN</td>\n",
       "      <td>DE55 5PB</td>\n",
       "      <td>DE55 5PB</td>\n",
       "    </tr>\n",
       "  </tbody>\n",
       "</table>\n",
       "</div>"
      ],
      "text/plain": [
       "    Record ID            Company name England Regions (DFE)   \\\n",
       "0  6595702656            East Midlands   \n",
       "\n",
       "  Customer type - Primary Customer type - RE Primary Subscription Start Date  \\\n",
       "0            Primary SaaS                NaN                      2022-05-18   \n",
       "\n",
       "  Primary Subscription End Date Legacy Flagship Post code Postcode (DFE)  \n",
       "0                    2025-05-17             NaN  DE55 5PB       DE55 5PB  "
      ]
     },
     "execution_count": 12,
     "metadata": {},
     "output_type": "execute_result"
    }
   ],
   "source": [
    "df.head(1)"
   ]
  },
  {
   "cell_type": "code",
   "execution_count": 13,
   "id": "25a9d3bb-46a9-47d9-8442-76a9cdfa78c7",
   "metadata": {},
   "outputs": [
    {
     "name": "stderr",
     "output_type": "stream",
     "text": [
      "100%|█████████████████████████████████████████████████████████████████████████████████████| 1000/1000 [34:15<00:00,  2.06s/it]\n"
     ]
    }
   ],
   "source": [
    "tqdm.pandas()  # Enable the progress bar for pandas\n",
    "df['latitude'], df['longitude'] = zip(*df['Post code'].progress_apply(get_lat_lon))"
   ]
  },
  {
   "cell_type": "code",
   "execution_count": 14,
   "id": "dd74359a-ea21-45f1-abb3-01bb8126d2dc",
   "metadata": {},
   "outputs": [],
   "source": [
    "df.to_csv(r\"C:\\Users\\Jacob\\OneDrive - Jigsaw PSHE Ltd\\Documents\\Python\\Neighbour_Analysis\\HS_PSHE_RE_DATA_with_lat_lon_.csv\", index=False)\n"
   ]
  },
  {
   "cell_type": "code",
   "execution_count": null,
   "id": "f84ef759-e035-4408-abdb-b114346f90ad",
   "metadata": {},
   "outputs": [],
   "source": []
  }
 ],
 "metadata": {
  "kernelspec": {
   "display_name": "Python 3 (ipykernel)",
   "language": "python",
   "name": "python3"
  },
  "language_info": {
   "codemirror_mode": {
    "name": "ipython",
    "version": 3
   },
   "file_extension": ".py",
   "mimetype": "text/x-python",
   "name": "python",
   "nbconvert_exporter": "python",
   "pygments_lexer": "ipython3",
   "version": "3.12.1"
  }
 },
 "nbformat": 4,
 "nbformat_minor": 5
}
